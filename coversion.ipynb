from __future__ import print_function
from builtins import input
import cv2
import numpy as np
import argparse

path=("dimlight.jpg")
Image = cv2.imread(path)
cv2.imshow('image',Image)
if Image is None:
    print('Could not open or find the image:')
    exit(0)

new_image = np.zeros(Image.shape, Image.dtype)

alpha = 1.0 # Simple contrast control
beta = 0    # Simple brightness control
print(' Basic Linear Transforms ')
print('-------------------------')
try:
    alpha = float(input('* Enter the alpha value [1.0-3.0]: '))
    beta = int(input('* Enter the beta value [0-100]: '))
except ValueError:
    print('Error, not a number')

Basic Linear Transforms 
-------------------------
* Enter the alpha value [1.0-3.0]: 2
* Enter the beta value [0-100]: 50

for y in range(Image.shape[0]):
    for x in range(Image.shape[1]):
        for c in range(Image.shape[2]):
            new_image[y,x,c] = np.clip(alpha*Image[y,x,c] + beta, 0, 255)

cv2.imshow('Original Image', Image)
cv2.imshow('New Image', new_image)
cv2.waitKey()
